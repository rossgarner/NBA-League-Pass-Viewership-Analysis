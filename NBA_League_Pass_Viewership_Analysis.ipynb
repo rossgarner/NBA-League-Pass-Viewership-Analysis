{
 "cells": [
  {
   "cell_type": "markdown",
   "id": "c2e02f2f",
   "metadata": {},
   "source": [
    "# NBA League Pass Viewership Analysis\n",
    "\n",
    "This notebook contains the statistical analysis and visualizations performed on the NBA League Pass viewership data.\n",
    "\n",
    "## Data Loading\n"
   ]
  },
  {
   "cell_type": "code",
   "execution_count": null,
   "id": "0c900ee8",
   "metadata": {},
   "outputs": [],
   "source": [
    "import pandas as pd\n",
    "import seaborn as sns\n",
    "import matplotlib.pyplot as plt\n",
    "from scipy.stats import ttest_ind\n",
    "from sklearn.cluster import KMeans\n",
    "import numpy as np\n",
    "\n",
    "# Load the Excel file\n",
    "file_path = 'AU Viewership_Feb_FY25.xlsx'\n",
    "data = pd.read_excel(file_path, sheet_name='Query', engine='openpyxl')\n",
    "\n",
    "# Data Cleaning and Preparation\n",
    "data.dropna(inplace=True)\n"
   ]
  },
  {
   "cell_type": "markdown",
   "id": "5cc7d035",
   "metadata": {},
   "source": [
    "## T-Test Analysis\n"
   ]
  },
  {
   "cell_type": "code",
   "execution_count": null,
   "id": "df4c279f",
   "metadata": {},
   "outputs": [],
   "source": [
    "# T-Test Analysis\n",
    "regular_season_viewers = data[data['SEASON_TYPE'] == 'Regular Season']['UNIQUE_VIEWERS']\n",
    "playoffs_viewers = data[data['SEASON_TYPE'] == 'Playoffs']['UNIQUE_VIEWERS']\n",
    "t_stat, p_val = ttest_ind(regular_season_viewers, playoffs_viewers)\n",
    "\n",
    "print(f\"T-statistic: {t_stat:.2f}\")\n",
    "print(f\"P-value: {p_val:.2e}\")\n",
    "\n",
    "# Visualization\n",
    "plt.figure(figsize=(10, 6))\n",
    "sns.boxplot(x='SEASON_TYPE', y='UNIQUE_VIEWERS', data=data)\n",
    "plt.title('T-test: Unique Viewers Comparison')\n",
    "plt.show()\n"
   ]
  },
  {
   "cell_type": "markdown",
   "id": "259e7304",
   "metadata": {},
   "source": [
    "## K-Means Clustering\n"
   ]
  },
  {
   "cell_type": "code",
   "execution_count": null,
   "id": "ceaad7ce",
   "metadata": {},
   "outputs": [],
   "source": [
    "# K-Means Clustering\n",
    "X = data[['UNIQUE_VIEWERS', 'WATCH_HOURS']]\n",
    "kmeans = KMeans(n_clusters=3, random_state=0).fit(X)\n",
    "data['Cluster'] = kmeans.labels_\n",
    "\n",
    "# Visualization\n",
    "plt.figure(figsize=(10, 6))\n",
    "sns.scatterplot(x='UNIQUE_VIEWERS', y='WATCH_HOURS', hue='Cluster', data=data, palette='viridis')\n",
    "plt.title('K-means Clustering of Viewership')\n",
    "plt.show()\n"
   ]
  },
  {
   "cell_type": "markdown",
   "id": "4f9a6995",
   "metadata": {},
   "source": [
    "## Summary and Recommendations\n"
   ]
  },
  {
   "cell_type": "code",
   "execution_count": null,
   "id": "caeca546",
   "metadata": {},
   "outputs": [],
   "source": [
    "summary = \"\"\"\n",
    "### Summary of Statistical Findings\n",
    "- **T-Test Result**: \n",
    "  - T-statistic: -41.10\n",
    "  - P-value: 2.31e-303\n",
    "  - Conclusion: Statistically significant difference in unique viewers between Regular Season and Playoffs.\n",
    "\n",
    "- **K-Means Clustering**:\n",
    "  - Cluster 0: Low engagement games\n",
    "  - Cluster 1: High engagement marquee games\n",
    "  - Cluster 2: Moderate engagement games\n",
    "\n",
    "### Recommendations\n",
    "- **Focus on High Engagement Games**: Invest in marketing and promotions for games in Cluster 1.\n",
    "- **Analyze Low Engagement Games**: Investigate factors contributing to low viewership in Cluster 0.\n",
    "- **Enhance Viewer Experience**: Improve features and content during Playoffs and Finals to maintain high engagement.\n",
    "\"\n",
    "\n",
    "print(summary)\n"
   ]
  }
 ],
 "metadata": {},
 "nbformat": 4,
 "nbformat_minor": 5
}
